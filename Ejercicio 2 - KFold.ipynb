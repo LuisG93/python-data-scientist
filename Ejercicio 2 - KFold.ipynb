{
 "cells": [
  {
   "cell_type": "markdown",
   "metadata": {},
   "source": [
    "## Ejercicio de regrecion lineal con validación kfold"
   ]
  },
  {
   "cell_type": "code",
   "execution_count": 2,
   "metadata": {},
   "outputs": [],
   "source": [
    "import pandas as pd\n",
    "from sklearn.model_selection import KFold\n",
    "from sklearn import linear_model\n",
    "from sklearn.metrics import r2_score\n",
    "import numpy as np"
   ]
  },
  {
   "cell_type": "code",
   "execution_count": 4,
   "metadata": {},
   "outputs": [],
   "source": [
    "data = pd.read_csv(\"base_datos_2008.csv\")"
   ]
  },
  {
   "cell_type": "code",
   "execution_count": 5,
   "metadata": {},
   "outputs": [],
   "source": [
    "df = data.dropna(subset=[\"ArrDelay\"])\n",
    "df = df.sample(frac=1).head(1000)\n",
    "\n",
    "df = df.reset_index()\n",
    "\n",
    "x = df[[\"AirTime\", \"Distance\", \"DepDelay\"]]\n",
    "y = df[\"ArrDelay\"]"
   ]
  },
  {
   "cell_type": "code",
   "execution_count": 6,
   "metadata": {},
   "outputs": [
    {
     "data": {
      "text/plain": [
       "10"
      ]
     },
     "execution_count": 6,
     "metadata": {},
     "output_type": "execute_result"
    }
   ],
   "source": [
    "kf = KFold(n_splits=10, shuffle=True)\n",
    "kf.get_n_splits(x)"
   ]
  },
  {
   "cell_type": "code",
   "execution_count": 9,
   "metadata": {},
   "outputs": [
    {
     "name": "stdout",
     "output_type": "stream",
     "text": [
      "R2:  0.8791653495094893\n"
     ]
    }
   ],
   "source": [
    "regr = linear_model.LinearRegression()\n",
    "resultados = []\n",
    "\n",
    "for train_index, test_index in kf.split(x):\n",
    "    #Seleccionar los conjuntos\n",
    "    x_train, x_test = x.loc[train_index,], x.loc[test_index,]\n",
    "    y_train, y_test = y[train_index], y[test_index]\n",
    "    \n",
    "    #Entrenar el modelo\n",
    "    regr.fit(x_train, y_train)\n",
    "    \n",
    "    #Predecir el conjunto de pruebas\n",
    "    predicciones = regr.predict(x_test)\n",
    "    \n",
    "    #Agregar el r2 de la prediccion al array de resultados\n",
    "    resultados.append(r2_score(y_test, predicciones))\n",
    "\n",
    "#Imprimir el promedio\n",
    "print (\"R2: \", np.mean(resultados))"
   ]
  },
  {
   "cell_type": "code",
   "execution_count": null,
   "metadata": {},
   "outputs": [],
   "source": []
  }
 ],
 "metadata": {
  "kernelspec": {
   "display_name": "Python 3",
   "language": "python",
   "name": "python3"
  },
  "language_info": {
   "codemirror_mode": {
    "name": "ipython",
    "version": 3
   },
   "file_extension": ".py",
   "mimetype": "text/x-python",
   "name": "python",
   "nbconvert_exporter": "python",
   "pygments_lexer": "ipython3",
   "version": "3.7.6"
  }
 },
 "nbformat": 4,
 "nbformat_minor": 4
}
